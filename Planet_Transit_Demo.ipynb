{
  "nbformat": 4,
  "nbformat_minor": 0,
  "metadata": {
    "colab": {
      "provenance": [],
      "authorship_tag": "ABX9TyNm2uZgKgDe843sJMLcw4a4",
      "include_colab_link": true
    },
    "kernelspec": {
      "name": "python3",
      "display_name": "Python 3"
    },
    "language_info": {
      "name": "python"
    }
  },
  "cells": [
    {
      "cell_type": "markdown",
      "metadata": {
        "id": "view-in-github",
        "colab_type": "text"
      },
      "source": [
        "<a href=\"https://colab.research.google.com/github/luckeydoo6/ExoPlanet/blob/main/Planet_Transit_Demo.ipynb\" target=\"_parent\"><img src=\"https://colab.research.google.com/assets/colab-badge.svg\" alt=\"Open In Colab\"/></a>"
      ]
    },
    {
      "cell_type": "code",
      "execution_count": null,
      "metadata": {
        "id": "mjcpGbJTqDJX"
      },
      "outputs": [],
      "source": [
        "import numpy as np\n",
        "import astropy.constants as ac\n",
        "import astropy.units as u"
      ]
    },
    {
      "cell_type": "markdown",
      "source": [
        "Earth Transit time"
      ],
      "metadata": {
        "id": "9BemHqT4stNA"
      }
    },
    {
      "cell_type": "code",
      "source": [
        "# Depth of the graph\n",
        "deltaE = (u.earthRad / u.solRad)**2\n",
        "print(\"Transit depth =\", deltaE.decompose())"
      ],
      "metadata": {
        "colab": {
          "base_uri": "https://localhost:8080/"
        },
        "id": "0q58Aqjvu_F4",
        "outputId": "497ca186-be4d-493f-e5b7-9a4a65ff1017"
      },
      "execution_count": null,
      "outputs": [
        {
          "output_type": "stream",
          "name": "stdout",
          "text": [
            "Transit depth = 8.40502e-05\n"
          ]
        }
      ]
    },
    {
      "cell_type": "code",
      "source": [
        "# Diameter of Sun\n",
        "d = 2 * u.solRad"
      ],
      "metadata": {
        "id": "DghTPQEuqISc"
      },
      "execution_count": null,
      "outputs": []
    },
    {
      "cell_type": "code",
      "source": [
        "# Solving for orbital velocity of Earth\n",
        "a = 1 * u.au\n",
        "v = np.sqrt((ac.G * u.solMass) / (a))\n",
        "print(v.to(u.m / u.s))"
      ],
      "metadata": {
        "colab": {
          "base_uri": "https://localhost:8080/"
        },
        "id": "IN2TyPs2rc5v",
        "outputId": "be114882-c60f-444b-8d53-3bade53737c2"
      },
      "execution_count": null,
      "outputs": [
        {
          "output_type": "stream",
          "name": "stdout",
          "text": [
            "29784.691829676933 m / s\n"
          ]
        }
      ]
    },
    {
      "cell_type": "code",
      "source": [
        "# Solving for how long it will take Earth to transit over sun\n",
        "t = d / v\n",
        "print(t.to(u.hour))"
      ],
      "metadata": {
        "colab": {
          "base_uri": "https://localhost:8080/"
        },
        "id": "eIziIQ9urrcK",
        "outputId": "b5f6c514-e816-4b46-c841-b4a8b232889a"
      },
      "execution_count": null,
      "outputs": [
        {
          "output_type": "stream",
          "name": "stdout",
          "text": [
            "12.976464628547822 h\n"
          ]
        }
      ]
    },
    {
      "cell_type": "code",
      "source": [
        "# Depth of graph for jupiter\n",
        "deltaJ = (u.jupiterRad / u.solRad)**2\n",
        "print(\"Transit depth =\", deltaJ.decompose())"
      ],
      "metadata": {
        "colab": {
          "base_uri": "https://localhost:8080/"
        },
        "id": "QSBQz_dOunMI",
        "outputId": "c916e859-6886-4076-f4e1-fb583c94ebcf"
      },
      "execution_count": null,
      "outputs": [
        {
          "output_type": "stream",
          "name": "stdout",
          "text": [
            "Transit depth = 0.0105602\n"
          ]
        }
      ]
    },
    {
      "cell_type": "markdown",
      "source": [
        "Jupiter Transit time using\n",
        "$v=\\sqrt((GM_⊙)/a)$"
      ],
      "metadata": {
        "id": "z6VTRmnUsvkv"
      }
    },
    {
      "cell_type": "code",
      "source": [
        "d1 = 2 * u.solRad"
      ],
      "metadata": {
        "id": "mwk2yLHgsxY7"
      },
      "execution_count": null,
      "outputs": []
    },
    {
      "cell_type": "code",
      "source": [
        "# Solving for orbital velocity of Jupiter\n",
        "a1 = 5 * u.au\n",
        "v1 = np.sqrt((ac.G * u.solMass) / (a1))\n",
        "print(v.to(u.m / u.s))"
      ],
      "metadata": {
        "colab": {
          "base_uri": "https://localhost:8080/"
        },
        "id": "A-r-Dk6Us0lP",
        "outputId": "4138a2ae-9341-404f-ad78-d12a6639cd28"
      },
      "execution_count": null,
      "outputs": [
        {
          "output_type": "stream",
          "name": "stdout",
          "text": [
            "29784.691829676933 m / s\n"
          ]
        }
      ]
    },
    {
      "cell_type": "code",
      "source": [
        "# Solving for transit time of Jupiter\n",
        "t1 = d1 / v1\n",
        "print(t1.to(u.hour))"
      ],
      "metadata": {
        "colab": {
          "base_uri": "https://localhost:8080/"
        },
        "id": "oyybcVcHtJ6c",
        "outputId": "336324b6-1d45-4dcb-9fa2-8e388a94c0ac"
      },
      "execution_count": null,
      "outputs": [
        {
          "output_type": "stream",
          "name": "stdout",
          "text": [
            "29.01625701705449 h\n"
          ]
        }
      ]
    },
    {
      "cell_type": "markdown",
      "source": [
        "The equation is\n",
        "$v_⊙ = (M_p / M_⊙)$"
      ],
      "metadata": {
        "id": "AoHIN-Xhy8bU"
      }
    },
    {
      "cell_type": "code",
      "source": [
        "# Finding sun \"wobble\" in the Earth-Sun system\n",
        "v_sun = ((u.earthMass / u.solMass) * (v))\n",
        "print(v_sun.to(u.cm / u.s))"
      ],
      "metadata": {
        "colab": {
          "base_uri": "https://localhost:8080/"
        },
        "id": "-bTrx_Wjujhf",
        "outputId": "b6902a7f-6c83-4b7b-ad05-bb1459730774"
      },
      "execution_count": null,
      "outputs": [
        {
          "output_type": "stream",
          "name": "stdout",
          "text": [
            "8.94580046692379 cm / s\n"
          ]
        }
      ]
    },
    {
      "cell_type": "code",
      "source": [
        "# Finding sun \"wobble\" in the Jupiter-Sun system\n",
        "v_sunJ = ((u.jupiterMass / u.solMass) * (v1))\n",
        "print(v_sunJ.to(u.m / u.s))"
      ],
      "metadata": {
        "colab": {
          "base_uri": "https://localhost:8080/"
        },
        "id": "KfH4cwSayIVt",
        "outputId": "b1e905e3-64f2-4024-e175-e83290369968"
      },
      "execution_count": null,
      "outputs": [
        {
          "output_type": "stream",
          "name": "stdout",
          "text": [
            "12.715308911562614 m / s\n"
          ]
        }
      ]
    },
    {
      "cell_type": "code",
      "source": [],
      "metadata": {
        "id": "S4oIFjrVGE6P"
      },
      "execution_count": null,
      "outputs": []
    }
  ]
}